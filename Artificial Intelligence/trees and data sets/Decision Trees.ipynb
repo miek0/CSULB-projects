{
  "nbformat": 4,
  "nbformat_minor": 0,
  "metadata": {
    "colab": {
      "name": "Assn12",
      "provenance": [],
      "collapsed_sections": []
    },
    "kernelspec": {
      "display_name": "Python 3",
      "name": "python3"
    },
    "language_info": {
      "name": "python"
    }
  },
  "cells": [
    {
      "cell_type": "markdown",
      "metadata": {
        "id": "PJz93_Z1PGFU"
      },
      "source": [
        "**The Stuff You Gave Us**"
      ]
    },
    {
      "cell_type": "code",
      "metadata": {
        "id": "K3dVlEsi7aHs"
      },
      "source": [
        "## (A) Load the Breast Cancer Data\n",
        "import random\n",
        "import numpy as np\n",
        "from sklearn.datasets import load_breast_cancer\n",
        "\n",
        "cancer  = load_breast_cancer()"
      ],
      "execution_count": null,
      "outputs": []
    },
    {
      "cell_type": "code",
      "metadata": {
        "colab": {
          "base_uri": "https://localhost:8080/"
        },
        "id": "TK2BTurFBJPZ",
        "outputId": "3215a432-2343-4dca-edf7-d786a1d08971"
      },
      "source": [
        "## (B) Print out the names of features (X) and the name of the target (y)\n",
        "X = cancer.feature_names\n",
        "print(\"FEATURES\")\n",
        "print(X)\n",
        "\n",
        "y = cancer.target_names\n",
        "print(\"TARGET\")\n",
        "print(y)"
      ],
      "execution_count": null,
      "outputs": [
        {
          "output_type": "stream",
          "text": [
            "FEATURES\n",
            "['mean radius' 'mean texture' 'mean perimeter' 'mean area'\n",
            " 'mean smoothness' 'mean compactness' 'mean concavity'\n",
            " 'mean concave points' 'mean symmetry' 'mean fractal dimension'\n",
            " 'radius error' 'texture error' 'perimeter error' 'area error'\n",
            " 'smoothness error' 'compactness error' 'concavity error'\n",
            " 'concave points error' 'symmetry error' 'fractal dimension error'\n",
            " 'worst radius' 'worst texture' 'worst perimeter' 'worst area'\n",
            " 'worst smoothness' 'worst compactness' 'worst concavity'\n",
            " 'worst concave points' 'worst symmetry' 'worst fractal dimension']\n",
            "TARGET\n",
            "['malignant' 'benign']\n"
          ],
          "name": "stdout"
        }
      ]
    },
    {
      "cell_type": "code",
      "metadata": {
        "id": "Hfdvdqoc-hkD"
      },
      "source": [
        "## (C) Allocate one half of the to Train(X_train, y_train) and the remaining half to Test(X_test, y_test)\n",
        "\n",
        "from sklearn.model_selection import train_test_split\n",
        "\n",
        "X_train, X_test, y_train, y_test = train_test_split(cancer.data, cancer.target, test_size = 0.5)"
      ],
      "execution_count": null,
      "outputs": []
    },
    {
      "cell_type": "code",
      "metadata": {
        "colab": {
          "base_uri": "https://localhost:8080/"
        },
        "id": "DK2yfK3GAx76",
        "outputId": "5b83352c-792a-4e39-db3f-c947ecb47375"
      },
      "source": [
        "cancer.data.shape"
      ],
      "execution_count": null,
      "outputs": [
        {
          "output_type": "execute_result",
          "data": {
            "text/plain": [
              "(569, 30)"
            ]
          },
          "metadata": {
            "tags": []
          },
          "execution_count": 4
        }
      ]
    },
    {
      "cell_type": "code",
      "metadata": {
        "colab": {
          "base_uri": "https://localhost:8080/"
        },
        "id": "GDKrskQ5A0Ry",
        "outputId": "ab55d517-f44a-453a-f1c5-03183246e1d8"
      },
      "source": [
        "cancer.target.shape"
      ],
      "execution_count": null,
      "outputs": [
        {
          "output_type": "execute_result",
          "data": {
            "text/plain": [
              "(569,)"
            ]
          },
          "metadata": {
            "tags": []
          },
          "execution_count": 5
        }
      ]
    },
    {
      "cell_type": "code",
      "metadata": {
        "colab": {
          "base_uri": "https://localhost:8080/"
        },
        "id": "l4g_q6ERA1rq",
        "outputId": "232ffc46-72b2-49dd-f6cf-b191240e1a16"
      },
      "source": [
        "X_train.shape"
      ],
      "execution_count": null,
      "outputs": [
        {
          "output_type": "execute_result",
          "data": {
            "text/plain": [
              "(284, 30)"
            ]
          },
          "metadata": {
            "tags": []
          },
          "execution_count": 6
        }
      ]
    },
    {
      "cell_type": "code",
      "metadata": {
        "colab": {
          "base_uri": "https://localhost:8080/"
        },
        "id": "-QGAdWA4A3KE",
        "outputId": "945ea69b-1c6d-4d1e-e61f-ba682bab09e4"
      },
      "source": [
        "X_test.shape"
      ],
      "execution_count": null,
      "outputs": [
        {
          "output_type": "execute_result",
          "data": {
            "text/plain": [
              "(285, 30)"
            ]
          },
          "metadata": {
            "tags": []
          },
          "execution_count": 7
        }
      ]
    },
    {
      "cell_type": "code",
      "metadata": {
        "colab": {
          "base_uri": "https://localhost:8080/"
        },
        "id": "cuk-9wd6A7-U",
        "outputId": "1fb8f82d-fe36-442f-8cc4-bbc91aa36e1b"
      },
      "source": [
        "y_train.shape"
      ],
      "execution_count": null,
      "outputs": [
        {
          "output_type": "execute_result",
          "data": {
            "text/plain": [
              "(284,)"
            ]
          },
          "metadata": {
            "tags": []
          },
          "execution_count": 8
        }
      ]
    },
    {
      "cell_type": "code",
      "metadata": {
        "colab": {
          "base_uri": "https://localhost:8080/"
        },
        "id": "tUqtAoBKA-Ly",
        "outputId": "eb190c4e-fccb-4d1f-8d29-a42a1ae9255a"
      },
      "source": [
        "y_test.shape"
      ],
      "execution_count": null,
      "outputs": [
        {
          "output_type": "execute_result",
          "data": {
            "text/plain": [
              "(285,)"
            ]
          },
          "metadata": {
            "tags": []
          },
          "execution_count": 9
        }
      ]
    },
    {
      "cell_type": "code",
      "metadata": {
        "colab": {
          "base_uri": "https://localhost:8080/"
        },
        "id": "2rHNvE13Alvp",
        "outputId": "37ae56a8-2a5c-4d28-bce8-c0653cae9fb7"
      },
      "source": [
        "## (F) Use the 'Gini' index as the criterion and fix the maximum depth of trees as 2.\n",
        "\n",
        "from sklearn.tree import DecisionTreeClassifier\n",
        "\n",
        "clf = DecisionTreeClassifier(criterion='gini', max_depth = 2)\n",
        "tree = clf.fit(X_train, y_train)\n",
        "\n",
        "## (G) Write a program that generates a decision tree from X_train, y_train and predict y_pred from X_test.\n",
        "\n",
        "y_pred = tree.predict(X_test)\n",
        "\n",
        "y_test"
      ],
      "execution_count": null,
      "outputs": [
        {
          "output_type": "execute_result",
          "data": {
            "text/plain": [
              "array([0, 0, 0, 1, 1, 1, 1, 1, 1, 0, 1, 1, 0, 1, 1, 0, 0, 0, 0, 1, 0, 1,\n",
              "       1, 0, 1, 1, 1, 0, 0, 1, 1, 1, 1, 1, 0, 1, 0, 0, 1, 1, 0, 1, 1, 0,\n",
              "       1, 0, 1, 0, 0, 1, 1, 0, 0, 0, 0, 1, 1, 1, 1, 1, 1, 0, 0, 0, 1, 0,\n",
              "       0, 1, 1, 1, 1, 1, 1, 0, 1, 0, 1, 1, 0, 1, 0, 1, 1, 0, 0, 1, 1, 1,\n",
              "       1, 0, 0, 0, 1, 1, 1, 0, 0, 1, 1, 0, 0, 1, 1, 0, 0, 1, 1, 1, 0, 1,\n",
              "       1, 1, 1, 0, 0, 1, 0, 0, 1, 1, 1, 0, 0, 1, 1, 1, 1, 1, 0, 1, 1, 1,\n",
              "       1, 0, 0, 1, 1, 0, 1, 0, 1, 1, 1, 1, 1, 1, 0, 1, 0, 1, 0, 0, 1, 1,\n",
              "       1, 1, 0, 1, 1, 1, 1, 0, 1, 0, 0, 1, 0, 1, 0, 1, 1, 0, 1, 1, 1, 1,\n",
              "       1, 1, 1, 0, 0, 0, 1, 1, 1, 0, 1, 1, 1, 0, 0, 1, 1, 1, 0, 1, 1, 1,\n",
              "       1, 1, 1, 1, 1, 1, 0, 0, 0, 1, 1, 1, 1, 1, 0, 0, 1, 0, 1, 0, 0, 0,\n",
              "       0, 0, 0, 1, 1, 1, 1, 0, 1, 1, 0, 1, 1, 1, 1, 1, 1, 0, 0, 0, 1, 1,\n",
              "       0, 0, 0, 1, 1, 1, 0, 1, 1, 0, 0, 0, 1, 0, 1, 0, 1, 1, 1, 1, 0, 0,\n",
              "       1, 1, 1, 0, 1, 1, 0, 1, 0, 1, 1, 1, 1, 0, 1, 1, 1, 1, 0, 0, 1])"
            ]
          },
          "metadata": {
            "tags": []
          },
          "execution_count": 10
        }
      ]
    },
    {
      "cell_type": "code",
      "metadata": {
        "colab": {
          "base_uri": "https://localhost:8080/"
        },
        "id": "sM4LVHI1BuDt",
        "outputId": "78049537-711d-4b5f-f82b-de988f0e7671"
      },
      "source": [
        "y_pred"
      ],
      "execution_count": null,
      "outputs": [
        {
          "output_type": "execute_result",
          "data": {
            "text/plain": [
              "array([0, 0, 1, 1, 1, 0, 0, 1, 1, 0, 1, 1, 0, 1, 1, 0, 0, 1, 0, 1, 0, 1,\n",
              "       1, 0, 1, 1, 1, 1, 0, 1, 1, 1, 1, 1, 0, 1, 0, 0, 1, 1, 0, 1, 1, 0,\n",
              "       1, 0, 1, 0, 0, 1, 1, 1, 0, 0, 0, 1, 1, 1, 1, 1, 1, 0, 0, 0, 1, 0,\n",
              "       1, 1, 1, 1, 1, 1, 1, 0, 1, 0, 1, 1, 0, 1, 0, 1, 1, 0, 0, 1, 1, 1,\n",
              "       1, 1, 0, 0, 1, 1, 1, 1, 1, 1, 1, 0, 0, 1, 1, 1, 0, 1, 1, 1, 0, 0,\n",
              "       1, 1, 1, 0, 0, 1, 0, 0, 1, 1, 1, 0, 0, 1, 1, 1, 1, 1, 0, 1, 1, 1,\n",
              "       1, 0, 0, 1, 1, 0, 1, 0, 1, 1, 1, 1, 1, 1, 0, 1, 0, 1, 0, 1, 1, 1,\n",
              "       1, 1, 0, 1, 1, 1, 1, 0, 1, 0, 1, 1, 0, 1, 0, 1, 1, 0, 1, 1, 1, 1,\n",
              "       1, 1, 1, 0, 0, 0, 1, 1, 1, 0, 1, 1, 1, 0, 1, 1, 1, 0, 0, 1, 1, 1,\n",
              "       1, 1, 1, 1, 1, 1, 1, 1, 0, 1, 1, 1, 1, 1, 0, 0, 1, 0, 1, 0, 0, 0,\n",
              "       1, 0, 0, 1, 1, 1, 1, 1, 1, 1, 0, 1, 1, 1, 1, 1, 1, 0, 0, 0, 1, 1,\n",
              "       0, 0, 0, 1, 1, 1, 0, 1, 1, 0, 0, 0, 1, 0, 1, 0, 1, 1, 1, 1, 0, 1,\n",
              "       0, 1, 1, 0, 1, 1, 0, 1, 1, 1, 1, 1, 1, 0, 1, 1, 1, 1, 0, 0, 1])"
            ]
          },
          "metadata": {
            "tags": []
          },
          "execution_count": 11
        }
      ]
    },
    {
      "cell_type": "code",
      "metadata": {
        "colab": {
          "base_uri": "https://localhost:8080/"
        },
        "id": "x7qoWK6qCF-V",
        "outputId": "cd647101-4817-40e9-98ed-cc6907e3c692"
      },
      "source": [
        "from sklearn.metrics import accuracy_score\n",
        "\n",
        "## You can compute accuracy of the classifier by comparing y pred and y test. Please print out the accuracy.\n",
        "accuracy_score(y_test, y_pred)"
      ],
      "execution_count": null,
      "outputs": [
        {
          "output_type": "execute_result",
          "data": {
            "text/plain": [
              "0.9192982456140351"
            ]
          },
          "metadata": {
            "tags": []
          },
          "execution_count": 12
        }
      ]
    },
    {
      "cell_type": "markdown",
      "metadata": {
        "id": "fntFmu2oPLNv"
      },
      "source": [
        "**The Stuff We Had to Figure Out**"
      ]
    },
    {
      "cell_type": "code",
      "metadata": {
        "colab": {
          "base_uri": "https://localhost:8080/",
          "height": 367
        },
        "id": "HPVnN3nVD1fK",
        "outputId": "bbf28d02-15c2-407b-d21e-b63e2402f9d1"
      },
      "source": [
        "## (H) Visualize the tree using sklearn.tree.plot tree. Each node of trees should include feature name.\n",
        "## I figure that since you named plot_tree, I would use plot_tree.\n",
        "from sklearn.tree import plot_tree\n",
        "## Badabing, we're using it.  I put in the None to avoid having to put a variable there.\n",
        "plot_tree(tree, None, X)"
      ],
      "execution_count": null,
      "outputs": [
        {
          "output_type": "execute_result",
          "data": {
            "text/plain": [
              "[Text(167.4, 181.2, 'worst perimeter <= 112.8\\ngini = 0.462\\nsamples = 284\\nvalue = [103, 181]'),\n",
              " Text(83.7, 108.72, 'mean concave points <= 0.049\\ngini = 0.161\\nsamples = 192\\nvalue = [17, 175]'),\n",
              " Text(41.85, 36.23999999999998, 'gini = 0.025\\nsamples = 161\\nvalue = [2, 159]'),\n",
              " Text(125.55000000000001, 36.23999999999998, 'gini = 0.499\\nsamples = 31\\nvalue = [15, 16]'),\n",
              " Text(251.10000000000002, 108.72, 'worst area <= 810.25\\ngini = 0.122\\nsamples = 92\\nvalue = [86, 6]'),\n",
              " Text(209.25, 36.23999999999998, 'gini = 0.375\\nsamples = 4\\nvalue = [1, 3]'),\n",
              " Text(292.95, 36.23999999999998, 'gini = 0.066\\nsamples = 88\\nvalue = [85, 3]')]"
            ]
          },
          "metadata": {
            "tags": []
          },
          "execution_count": 13
        },
        {
          "output_type": "display_data",
          "data": {
            "image/png": "[encoded data removed]",
            "text/plain": [
              "<Figure size 432x288 with 1 Axes>"
            ]
          },
          "metadata": {
            "tags": [],
            "needs_background": "light"
          }
        }
      ]
    },
    {
      "cell_type": "code",
      "metadata": {
        "id": "_g7Nmul4TZZW"
      },
      "source": [
        "## (I.1) Write a program that generates multiple decision trees using the bagging.\n",
        "\n",
        "## Using the BaggingClassifier you prompted.\n",
        "from sklearn.ensemble import BaggingClassifier\n",
        "## When not informed about the range, I leave it to random chance.  When I think I can, that is.\n",
        "import random\n",
        "\n",
        "## Initiate a list to hold accuracies that we'll calculate in the next for loop.\n",
        "bagging_scores = []\n",
        "## Generate a random integer in the range of 20 to 100.  I wasn't sure exactly what you wanted, thus the randomizer.\n",
        "ranRange = random.randint(20, 100)\n",
        "## Start the iterator at 1 and loop to the randomly-generated range.\n",
        "for iterator in range(1, ranRange):\n",
        "  ## Create a Bagging Classifier and shove it into a fit.\n",
        "  bagging = BaggingClassifier(n_estimators = iterator).fit(X_train, y_train)\n",
        "  ## Create this run's bagging_score.\n",
        "  bagging_score = accuracy_score(y_test, bagging.predict(X_test))\n",
        "  ## Append the bagging_score to the list of bagging_scores.\n",
        "  bagging_scores.append(bagging_score)\n",
        "\n",
        "## (I.2) Draw the 2D line plot whose X-Axis is n_estimators and Y-Axis is bagging_score\n",
        "\n",
        "## Kinda need this to plot stuff.\n",
        "import matplotlib.pyplot as plt\n",
        "\n",
        "## Create a list of n_estimators\n",
        "n_estimators = list(range(1, ranRange))\n",
        "## Badabing, we plottin'\n",
        "plt.plot(n_estimators, bagging_scores)"
      ],
      "execution_count": null,
      "outputs": []
    },
    {
      "cell_type": "code",
      "metadata": {
        "id": "CWfiQ47V8AYH"
      },
      "source": [
        "## (J.1) Write a program that generates multiple decision trees using the AdaBoost.\n",
        "## Once again, a bit from the prompt.\n",
        "from sklearn.ensemble import AdaBoostClassifier\n",
        "\n",
        "## Initiate a list to hold accuracies that we'll calculate in the next for loop.\n",
        "boost_scores = []\n",
        "## Start the iterator at 1 and loop to the randomly-generated range from the previous cell.\n",
        "for iterator in range(1, ranRange):\n",
        "  ## Create the boost and shove it into a fit.\n",
        "  boost = AdaBoostClassifier(n_estimators=iterator).fit(X_train, y_train)\n",
        "  ## Create the boost_score\n",
        "  boost_score = accuracy_score(y_test, boost.predict(X_test))\n",
        "  ## Append the new boost score to the list.\n",
        "  boost_scores.append(boost_score)\n",
        "\n",
        "## (J.2) Draw the 2D line plot whose X-Axis is n_estimators and Y-Axis is boost_score\n",
        "\n",
        "## We recycle the n_estimators from the previous cell.\n",
        "plt.plot(n_estimators, boost_scores)"
      ],
      "execution_count": null,
      "outputs": []
    },
    {
      "cell_type": "code",
      "metadata": {
        "id": "y0F-ETnw-9z_"
      },
      "source": [
        "## (K. 1) Write a program that generates multiple decision trees using the random forest.\n",
        "from sklearn.ensemble import RandomForestClassifier\n",
        "\n",
        "## Create lists for the features we'll be playing with and the scores we're gonna get.\n",
        "max_features, forest_scores = [], []\n",
        "## Start a counter.  It'll loop around the X variable.\n",
        "counter = 1\n",
        "## In order to get over 100 data points:\n",
        "for i in range(1, 101):\n",
        "  ## Check if the counter's within the range of the features.\n",
        "  if (counter >= len(X)):\n",
        "    ## If it was over, we reset to 1.\n",
        "    counter = 1\n",
        "  ## Keep track of the feature we're using this round.\n",
        "  max_features.append(counter)\n",
        "  ## Create the forest and shove it into a fit.\n",
        "  forest = RandomForestClassifier(n_estimators = i, max_features = counter).fit(X_train, y_train)\n",
        "  ## Compute the forest_score from the accuracy_score.\n",
        "  forest_score = accuracy_score(y_test, forest.predict(X_test))\n",
        "  ## Append the forest_score to the running list.\n",
        "  forest_scores.append(forest_score)\n",
        "  ## Increment the counter.\n",
        "  counter += 1\n",
        "\n",
        "## (K. 2) Draw a 3D surface plot whose X-axis is n estimators, Y-axis max features, and Z-axis forest score.\n",
        "## We use this to go 3D.\n",
        "from mpl_toolkits.mplot3d import Axes3D\n",
        "## Clear out the old n_estimators.\n",
        "n_estimators.clear()\n",
        "## Make it match the data we're playing with this round.\n",
        "n_estimators = list(range(1, 101))\n",
        "## Specify that we're going 3D.  Grab those crappy blue and red glass, lol.\n",
        "ax = plt.axes(projection = \"3d\")\n",
        "## Plot the values using trisurf, which is basically ez mode for 3D graphing, according to Google.\n",
        "ax.plot_trisurf(np.array(n_estimators), np.array(max_features), np.array(forest_scores), cmap = 'summer')"
      ],
      "execution_count": null,
      "outputs": []
    }
  ]
}